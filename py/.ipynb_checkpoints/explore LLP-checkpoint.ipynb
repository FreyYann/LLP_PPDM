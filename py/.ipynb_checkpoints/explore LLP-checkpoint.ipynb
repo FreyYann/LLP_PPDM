{
 "cells": [
  {
   "cell_type": "code",
   "execution_count": 2,
   "metadata": {
    "ExecuteTime": {
     "end_time": "2018-10-01T18:21:43.611084Z",
     "start_time": "2018-10-01T18:21:41.767748Z"
    },
    "collapsed": false
   },
   "outputs": [],
   "source": [
    "import numpy as np\n",
    "import pandas as pd\n",
    "import pickle\n",
    "from random import shuffle\n",
    "# from src.pre_process import o_config\n",
    "from sklearn.manifold import TSNE\n",
    "import matplotlib.pyplot as plt\n",
    "from sklearn.decomposition import PCA\n",
    "from sklearn.cluster import KMeans\n",
    "import operator\n",
    "from tqdm import tqdm"
   ]
  },
  {
   "cell_type": "code",
   "execution_count": 46,
   "metadata": {
    "ExecuteTime": {
     "end_time": "2018-10-01T19:00:10.293389Z",
     "start_time": "2018-10-01T19:00:10.264737Z"
    },
    "collapsed": true
   },
   "outputs": [],
   "source": [
    "def read(data_name):\n",
    "    if data_name == 'adult':\n",
    "#         path = '/home/xyan22/thesis/data/adult/'\n",
    "        path = '/Users/yanxinzhou/course/thesis/data 2/adult/'\n",
    "        train = pd.read_csv(path + 'train.csv', index_col=False)\n",
    "        test = pd.read_csv(path + 'test.csv', index_col=False)\n",
    "\n",
    "        fea_train = ['Age', 'workclass', 'fnlwgt', 'education', 'education-num', 'marital-status', \\\n",
    "                     'occupation', 'relationship', 'race', 'sex', 'capital-gain', 'capital-loss', 'hours-per-week', \\\n",
    "                     'native-country']\n",
    "        fea_cat = ['workclass', 'education', 'marital-status', 'occupation', 'relationship', 'race', \\\n",
    "                   'sex', 'native-country']\n",
    "\n",
    "        train_x = train[fea_train]\n",
    "        test_x = test[fea_train]\n",
    "        train_y = train['salary']\n",
    "        test_y = test['salary']\n",
    "\n",
    "        for f in fea_cat:\n",
    "            train_x[f] = train_x[f].astype('category')\n",
    "            test_x[f] = test_x[f].astype('category')\n",
    "\n",
    "        for f in fea_cat:\n",
    "            mapping = dict(zip(list(train_x[f].cat.categories),\n",
    "                               list(range(len(train_x[f].cat.categories)))))\n",
    "            train_x = train_x.replace({f: mapping})\n",
    "            test_x = test_x.replace({f: mapping})\n",
    "\n",
    "        return train_x, train_y, test_x, test_y\n"
   ]
  },
  {
   "cell_type": "code",
   "execution_count": 47,
   "metadata": {
    "ExecuteTime": {
     "end_time": "2018-10-01T19:00:13.502652Z",
     "start_time": "2018-10-01T19:00:11.386514Z"
    },
    "collapsed": true
   },
   "outputs": [
    {
     "name": "stderr",
     "output_type": "stream",
     "text": [
      "/Users/yanxinzhou/.pyenv/versions/anaconda3-4.2.0/lib/python3.5/site-packages/ipykernel/__main__.py:17: SettingWithCopyWarning: \n",
      "A value is trying to be set on a copy of a slice from a DataFrame.\n",
      "Try using .loc[row_indexer,col_indexer] = value instead\n",
      "\n",
      "See the caveats in the documentation: http://pandas.pydata.org/pandas-docs/stable/indexing.html#indexing-view-versus-copy\n",
      "/Users/yanxinzhou/.pyenv/versions/anaconda3-4.2.0/lib/python3.5/site-packages/ipykernel/__main__.py:18: SettingWithCopyWarning: \n",
      "A value is trying to be set on a copy of a slice from a DataFrame.\n",
      "Try using .loc[row_indexer,col_indexer] = value instead\n",
      "\n",
      "See the caveats in the documentation: http://pandas.pydata.org/pandas-docs/stable/indexing.html#indexing-view-versus-copy\n"
     ]
    }
   ],
   "source": [
    "data_name = 'adult'\n",
    "train_x, train_y, test_x, test_y = read(data_name)"
   ]
  },
  {
   "cell_type": "code",
   "execution_count": 48,
   "metadata": {
    "ExecuteTime": {
     "end_time": "2018-10-01T19:00:18.661267Z",
     "start_time": "2018-10-01T19:00:18.598367Z"
    },
    "collapsed": false
   },
   "outputs": [],
   "source": [
    "for fea in list(train_x):\n",
    "    train_x[fea]=10*(train_x[fea]-train_x[fea].min())/(train_x[fea].max()-train_x[fea].min())"
   ]
  },
  {
   "cell_type": "code",
   "execution_count": 49,
   "metadata": {
    "ExecuteTime": {
     "end_time": "2018-10-01T19:00:20.414342Z",
     "start_time": "2018-10-01T19:00:20.273881Z"
    },
    "collapsed": true
   },
   "outputs": [
    {
     "data": {
      "text/html": [
       "<div>\n",
       "<style scoped>\n",
       "    .dataframe tbody tr th:only-of-type {\n",
       "        vertical-align: middle;\n",
       "    }\n",
       "\n",
       "    .dataframe tbody tr th {\n",
       "        vertical-align: top;\n",
       "    }\n",
       "\n",
       "    .dataframe thead th {\n",
       "        text-align: right;\n",
       "    }\n",
       "</style>\n",
       "<table border=\"1\" class=\"dataframe\">\n",
       "  <thead>\n",
       "    <tr style=\"text-align: right;\">\n",
       "      <th></th>\n",
       "      <th>Age</th>\n",
       "      <th>workclass</th>\n",
       "      <th>fnlwgt</th>\n",
       "      <th>education</th>\n",
       "      <th>education-num</th>\n",
       "      <th>marital-status</th>\n",
       "      <th>occupation</th>\n",
       "      <th>relationship</th>\n",
       "      <th>race</th>\n",
       "      <th>sex</th>\n",
       "      <th>capital-gain</th>\n",
       "      <th>capital-loss</th>\n",
       "      <th>hours-per-week</th>\n",
       "      <th>native-country</th>\n",
       "    </tr>\n",
       "  </thead>\n",
       "  <tbody>\n",
       "    <tr>\n",
       "      <th>count</th>\n",
       "      <td>32561.000000</td>\n",
       "      <td>32561.000000</td>\n",
       "      <td>32561.000000</td>\n",
       "      <td>32561.000000</td>\n",
       "      <td>32561.000000</td>\n",
       "      <td>32561.000000</td>\n",
       "      <td>32561.000000</td>\n",
       "      <td>32561.000000</td>\n",
       "      <td>32561.000000</td>\n",
       "      <td>32561.000000</td>\n",
       "      <td>32561.000000</td>\n",
       "      <td>32561.000000</td>\n",
       "      <td>32561.000000</td>\n",
       "      <td>32561.000000</td>\n",
       "    </tr>\n",
       "    <tr>\n",
       "      <th>mean</th>\n",
       "      <td>2.956390</td>\n",
       "      <td>4.836115</td>\n",
       "      <td>1.205453</td>\n",
       "      <td>6.865473</td>\n",
       "      <td>6.053786</td>\n",
       "      <td>4.353060</td>\n",
       "      <td>4.694815</td>\n",
       "      <td>2.892724</td>\n",
       "      <td>9.164645</td>\n",
       "      <td>6.692055</td>\n",
       "      <td>0.107766</td>\n",
       "      <td>0.200422</td>\n",
       "      <td>4.024230</td>\n",
       "      <td>8.955821</td>\n",
       "    </tr>\n",
       "    <tr>\n",
       "      <th>std</th>\n",
       "      <td>1.868552</td>\n",
       "      <td>1.819950</td>\n",
       "      <td>0.716847</td>\n",
       "      <td>2.580176</td>\n",
       "      <td>1.715147</td>\n",
       "      <td>2.510370</td>\n",
       "      <td>3.020612</td>\n",
       "      <td>3.213542</td>\n",
       "      <td>2.122014</td>\n",
       "      <td>4.705064</td>\n",
       "      <td>0.738537</td>\n",
       "      <td>0.925069</td>\n",
       "      <td>1.259942</td>\n",
       "      <td>1.908239</td>\n",
       "    </tr>\n",
       "    <tr>\n",
       "      <th>min</th>\n",
       "      <td>0.000000</td>\n",
       "      <td>0.000000</td>\n",
       "      <td>0.000000</td>\n",
       "      <td>0.000000</td>\n",
       "      <td>0.000000</td>\n",
       "      <td>0.000000</td>\n",
       "      <td>0.000000</td>\n",
       "      <td>0.000000</td>\n",
       "      <td>0.000000</td>\n",
       "      <td>0.000000</td>\n",
       "      <td>0.000000</td>\n",
       "      <td>0.000000</td>\n",
       "      <td>0.000000</td>\n",
       "      <td>0.000000</td>\n",
       "    </tr>\n",
       "    <tr>\n",
       "      <th>25%</th>\n",
       "      <td>1.506849</td>\n",
       "      <td>5.000000</td>\n",
       "      <td>0.716793</td>\n",
       "      <td>6.000000</td>\n",
       "      <td>5.333333</td>\n",
       "      <td>3.333333</td>\n",
       "      <td>2.142857</td>\n",
       "      <td>0.000000</td>\n",
       "      <td>10.000000</td>\n",
       "      <td>0.000000</td>\n",
       "      <td>0.000000</td>\n",
       "      <td>0.000000</td>\n",
       "      <td>3.979592</td>\n",
       "      <td>9.512195</td>\n",
       "    </tr>\n",
       "    <tr>\n",
       "      <th>50%</th>\n",
       "      <td>2.739726</td>\n",
       "      <td>5.000000</td>\n",
       "      <td>1.127878</td>\n",
       "      <td>7.333333</td>\n",
       "      <td>6.000000</td>\n",
       "      <td>3.333333</td>\n",
       "      <td>5.000000</td>\n",
       "      <td>2.000000</td>\n",
       "      <td>10.000000</td>\n",
       "      <td>10.000000</td>\n",
       "      <td>0.000000</td>\n",
       "      <td>0.000000</td>\n",
       "      <td>3.979592</td>\n",
       "      <td>9.512195</td>\n",
       "    </tr>\n",
       "    <tr>\n",
       "      <th>75%</th>\n",
       "      <td>4.246575</td>\n",
       "      <td>5.000000</td>\n",
       "      <td>1.526507</td>\n",
       "      <td>8.000000</td>\n",
       "      <td>7.333333</td>\n",
       "      <td>6.666667</td>\n",
       "      <td>7.142857</td>\n",
       "      <td>6.000000</td>\n",
       "      <td>10.000000</td>\n",
       "      <td>10.000000</td>\n",
       "      <td>0.000000</td>\n",
       "      <td>0.000000</td>\n",
       "      <td>4.489796</td>\n",
       "      <td>9.512195</td>\n",
       "    </tr>\n",
       "    <tr>\n",
       "      <th>max</th>\n",
       "      <td>10.000000</td>\n",
       "      <td>10.000000</td>\n",
       "      <td>10.000000</td>\n",
       "      <td>10.000000</td>\n",
       "      <td>10.000000</td>\n",
       "      <td>10.000000</td>\n",
       "      <td>10.000000</td>\n",
       "      <td>10.000000</td>\n",
       "      <td>10.000000</td>\n",
       "      <td>10.000000</td>\n",
       "      <td>10.000000</td>\n",
       "      <td>10.000000</td>\n",
       "      <td>10.000000</td>\n",
       "      <td>10.000000</td>\n",
       "    </tr>\n",
       "  </tbody>\n",
       "</table>\n",
       "</div>"
      ],
      "text/plain": [
       "                Age     workclass        fnlwgt     education  education-num  \\\n",
       "count  32561.000000  32561.000000  32561.000000  32561.000000   32561.000000   \n",
       "mean       2.956390      4.836115      1.205453      6.865473       6.053786   \n",
       "std        1.868552      1.819950      0.716847      2.580176       1.715147   \n",
       "min        0.000000      0.000000      0.000000      0.000000       0.000000   \n",
       "25%        1.506849      5.000000      0.716793      6.000000       5.333333   \n",
       "50%        2.739726      5.000000      1.127878      7.333333       6.000000   \n",
       "75%        4.246575      5.000000      1.526507      8.000000       7.333333   \n",
       "max       10.000000     10.000000     10.000000     10.000000      10.000000   \n",
       "\n",
       "       marital-status    occupation  relationship          race           sex  \\\n",
       "count    32561.000000  32561.000000  32561.000000  32561.000000  32561.000000   \n",
       "mean         4.353060      4.694815      2.892724      9.164645      6.692055   \n",
       "std          2.510370      3.020612      3.213542      2.122014      4.705064   \n",
       "min          0.000000      0.000000      0.000000      0.000000      0.000000   \n",
       "25%          3.333333      2.142857      0.000000     10.000000      0.000000   \n",
       "50%          3.333333      5.000000      2.000000     10.000000     10.000000   \n",
       "75%          6.666667      7.142857      6.000000     10.000000     10.000000   \n",
       "max         10.000000     10.000000     10.000000     10.000000     10.000000   \n",
       "\n",
       "       capital-gain  capital-loss  hours-per-week  native-country  \n",
       "count  32561.000000  32561.000000    32561.000000    32561.000000  \n",
       "mean       0.107766      0.200422        4.024230        8.955821  \n",
       "std        0.738537      0.925069        1.259942        1.908239  \n",
       "min        0.000000      0.000000        0.000000        0.000000  \n",
       "25%        0.000000      0.000000        3.979592        9.512195  \n",
       "50%        0.000000      0.000000        3.979592        9.512195  \n",
       "75%        0.000000      0.000000        4.489796        9.512195  \n",
       "max       10.000000     10.000000       10.000000       10.000000  "
      ]
     },
     "execution_count": 49,
     "metadata": {},
     "output_type": "execute_result"
    }
   ],
   "source": [
    "train_x.describe()"
   ]
  },
  {
   "cell_type": "code",
   "execution_count": null,
   "metadata": {
    "ExecuteTime": {
     "start_time": "2018-10-02T00:06:20.080Z"
    },
    "collapsed": false
   },
   "outputs": [],
   "source": [
    "cls=TSNE(n_components=2, perplexity=30.0, early_exaggeration=12.0, learning_rate=200.0,\n",
    "                 n_iter=1000, n_iter_without_progress=300,\n",
    "                 min_grad_norm=1e-07, metric=\"euclidean\", init=\"random\", verbose=0, random_state=None,\n",
    "                 method=\"barnes_hut\", angle=0.5)\n",
    "\n",
    "X_embedded = cls.fit_transform(test_x)"
   ]
  },
  {
   "cell_type": "code",
   "execution_count": 51,
   "metadata": {
    "ExecuteTime": {
     "end_time": "2018-10-01T19:01:00.877107Z",
     "start_time": "2018-10-01T19:01:00.872036Z"
    },
    "collapsed": false
   },
   "outputs": [
    {
     "data": {
      "text/plain": [
       "(2000, 2)"
      ]
     },
     "execution_count": 51,
     "metadata": {},
     "output_type": "execute_result"
    }
   ],
   "source": [
    "X_embedded.shape"
   ]
  },
  {
   "cell_type": "code",
   "execution_count": 28,
   "metadata": {
    "ExecuteTime": {
     "end_time": "2018-10-01T18:46:20.927774Z",
     "start_time": "2018-10-01T18:46:20.922702Z"
    },
    "collapsed": false
   },
   "outputs": [
    {
     "data": {
      "text/plain": [
       "(32561,)"
      ]
     },
     "execution_count": 28,
     "metadata": {},
     "output_type": "execute_result"
    }
   ],
   "source": [
    "X_embedded[:,0].shape"
   ]
  },
  {
   "cell_type": "code",
   "execution_count": 54,
   "metadata": {
    "ExecuteTime": {
     "end_time": "2018-10-01T19:02:43.393945Z",
     "start_time": "2018-10-01T19:02:43.096429Z"
    },
    "collapsed": false
   },
   "outputs": [
    {
     "data": {
      "image/png": "[encoded data removed]",
      "text/plain": [
       "<matplotlib.figure.Figure at 0x1a1466eba8>"
      ]
     },
     "metadata": {},
     "output_type": "display_data"
    }
   ],
   "source": [
    "plt.figure(figsize=(12,8))\n",
    "plt.plot(X_embedded[test_y==' <=50K.',0], X_embedded[test_y==' <=50K.',1], 'r.')\n",
    "plt.plot(X_embedded[test_y==' >50K.',0], X_embedded[test_y==' >50K.',1], 'b.')\n",
    "plt.show()"
   ]
  },
  {
   "cell_type": "code",
   "execution_count": null,
   "metadata": {
    "collapsed": true
   },
   "outputs": [],
   "source": [
    "cls=LogisticRegression(penalty='l2',dual=False,tol=0.001,C=1,\n",
    "                       fit_intercept=True, intercept_scaling=1,\n",
    "                       class_weight={' <=50K':1, ' >50K':1.8}, random_state=123,\n",
    "                       solver=\"sag\",max_iter=1000, multi_class='ovr',\n",
    "                        verbose=0, n_jobs=4)\n",
    "cls.fit(new_list, train_y)\n",
    "preds=cls.predict(test_x)\n",
    "# labels = [' <=50K.', ' >50K.']\n",
    "# preds=[x +'.' for x in preds]"
   ]
  }
 ],
 "metadata": {
  "anaconda-cloud": {},
  "kernelspec": {
   "display_name": "Python [conda root]",
   "language": "python",
   "name": "conda-root-py"
  },
  "language_info": {
   "codemirror_mode": {
    "name": "ipython",
    "version": 3
   },
   "file_extension": ".py",
   "mimetype": "text/x-python",
   "name": "python",
   "nbconvert_exporter": "python",
   "pygments_lexer": "ipython3",
   "version": "3.5.2"
  },
  "latex_envs": {
   "LaTeX_envs_menu_present": true,
   "autoclose": true,
   "autocomplete": false,
   "bibliofile": "biblio.bib",
   "cite_by": "apalike",
   "current_citInitial": 1,
   "eqLabelWithNumbers": true,
   "eqNumInitial": 1,
   "hotkeys": {
    "equation": "Ctrl-E",
    "itemize": "Ctrl-I"
   },
   "labels_anchors": false,
   "latex_user_defs": false,
   "report_style_numbering": false,
   "user_envs_cfg": false
  },
  "toc": {
   "nav_menu": {},
   "number_sections": true,
   "sideBar": true,
   "skip_h1_title": false,
   "title_cell": "Table of Contents",
   "title_sidebar": "Contents",
   "toc_cell": false,
   "toc_position": {},
   "toc_section_display": true,
   "toc_window_display": false
  },
  "varInspector": {
   "cols": {
    "lenName": 16,
    "lenType": 16,
    "lenVar": 40
   },
   "kernels_config": {
    "python": {
     "delete_cmd_postfix": "",
     "delete_cmd_prefix": "del ",
     "library": "var_list.py",
     "varRefreshCmd": "print(var_dic_list())"
    },
    "r": {
     "delete_cmd_postfix": ") ",
     "delete_cmd_prefix": "rm(",
     "library": "var_list.r",
     "varRefreshCmd": "cat(var_dic_list()) "
    }
   },
   "types_to_exclude": [
    "module",
    "function",
    "builtin_function_or_method",
    "instance",
    "_Feature"
   ],
   "window_display": false
  }
 },
 "nbformat": 4,
 "nbformat_minor": 1
}
